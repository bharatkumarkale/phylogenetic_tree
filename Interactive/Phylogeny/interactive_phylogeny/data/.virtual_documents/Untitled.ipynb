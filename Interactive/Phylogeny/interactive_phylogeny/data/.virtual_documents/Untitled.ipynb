import json


legend = []
nodes = []

with open('yeast_legend_labels.json') as f:
    legend = json.load(f)

with open('yeast_node_color.json') as f:
    nodes = json.load(f)


node_agg = {}
for key, value in nodes.items():
    node_agg.setdefault(value, []).append(key)


legend


result = {}
for k,v in legend.items():
    result[k] = {'color': v, 'nodes': node_agg[v]}


with open('yeast_legend.json', 'w') as f:
    json.dump(result, f)



