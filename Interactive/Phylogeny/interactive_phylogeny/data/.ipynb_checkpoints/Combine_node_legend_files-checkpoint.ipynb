{
 "cells": [
  {
   "cell_type": "code",
   "execution_count": 1,
   "id": "7a9604e7-ec79-4a35-a9c1-09198cc3d2d6",
   "metadata": {},
   "outputs": [],
   "source": [
    "import json"
   ]
  },
  {
   "cell_type": "code",
   "execution_count": 4,
   "id": "7aeba174-8978-487b-a2f8-e147be5d1a10",
   "metadata": {},
   "outputs": [],
   "source": [
    "legend = []\n",
    "nodes = []\n",
    "\n",
    "with open('yeast_legend_labels.json') as f:\n",
    "    legend = json.load(f)\n",
    "\n",
    "with open('yeast_node_color.json') as f:\n",
    "    nodes = json.load(f)"
   ]
  },
  {
   "cell_type": "code",
   "execution_count": 10,
   "id": "f9238c99-0ee1-4486-aa5d-7ab88e326e25",
   "metadata": {},
   "outputs": [],
   "source": [
    "node_agg = {}\n",
    "for key, value in nodes.items():\n",
    "    node_agg.setdefault(value, []).append(key)"
   ]
  },
  {
   "cell_type": "code",
   "execution_count": 12,
   "id": "f6732835-2a4c-4c9c-836f-e95614a53dee",
   "metadata": {},
   "outputs": [
    {
     "data": {
      "text/plain": [
       "{'ExperimentalFit': '#377eb8',\n",
       " 'ExperimentalUnfit': '#ff7f00',\n",
       " 'GeneratedFit': '#4daf4a',\n",
       " 'GeneratedUnfit': '#ffff33'}"
      ]
     },
     "execution_count": 12,
     "metadata": {},
     "output_type": "execute_result"
    }
   ],
   "source": [
    "legend"
   ]
  },
  {
   "cell_type": "code",
   "execution_count": 13,
   "id": "812277ee-ddef-4515-b9f0-d28b78745d49",
   "metadata": {},
   "outputs": [],
   "source": [
    "result = {}\n",
    "for k,v in legend.items():\n",
    "    result[k] = {'color': v, 'nodes': node_agg[v]}"
   ]
  },
  {
   "cell_type": "code",
   "execution_count": 17,
   "id": "00cf03a9-df15-4541-994b-f867b8c4d54a",
   "metadata": {},
   "outputs": [],
   "source": [
    "with open('yeast_legend.json', 'w') as f:\n",
    "    json.dump(result, f)"
   ]
  },
  {
   "cell_type": "code",
   "execution_count": null,
   "id": "39fe53ac-2ddd-4ef6-95a5-0e07f86dce41",
   "metadata": {},
   "outputs": [],
   "source": []
  }
 ],
 "metadata": {
  "kernelspec": {
   "display_name": "Python 3 (ipykernel)",
   "language": "python",
   "name": "python3"
  },
  "language_info": {
   "codemirror_mode": {
    "name": "ipython",
    "version": 3
   },
   "file_extension": ".py",
   "mimetype": "text/x-python",
   "name": "python",
   "nbconvert_exporter": "python",
   "pygments_lexer": "ipython3",
   "version": "3.11.7"
  }
 },
 "nbformat": 4,
 "nbformat_minor": 5
}
